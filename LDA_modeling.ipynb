{
 "cells": [
  {
   "cell_type": "code",
   "execution_count": 1,
   "id": "764f82b2",
   "metadata": {
    "scrolled": true
   },
   "outputs": [
    {
     "name": "stderr",
     "output_type": "stream",
     "text": [
      "/Library/Frameworks/Python.framework/Versions/3.8/lib/python3.8/site-packages/past/builtins/misc.py:45: DeprecationWarning: the imp module is deprecated in favour of importlib; see the module's documentation for alternative uses\n",
      "  from imp import reload\n"
     ]
    }
   ],
   "source": [
    "import pandas as pd\n",
    "import numpy as np\n",
    "import  re\n",
    "from tqdm import tqdm \n",
    "\n",
    "import pyLDAvis.gensim_models as gensimvis\n",
    "import numpy as np \n",
    "import pandas as pd\n",
    "import pyLDAvis\n",
    "from sklearn.feature_extraction import text\n",
    "from sklearn.feature_extraction.text import CountVectorizer, TfidfVectorizer\n",
    "from sklearn.decomposition import LatentDirichletAllocation\n",
    "from gensim import corpora\n",
    "import gensim\n",
    "\n",
    "import pyLDAvis.gensim_models as gensimvis\n",
    "import scispacy\n",
    "import spacy\n",
    "from scipy.spatial.distance import jensenshannon\n",
    "import en_core_sci_lg\n",
    "import joblib\n",
    "from IPython.display import HTML, display\n",
    "from ipywidgets import interact, Layout, HBox, VBox, Box\n",
    "import ipywidgets as widgets\n",
    "from IPython.display import clear_output"
   ]
  },
  {
   "cell_type": "markdown",
   "id": "3e9cba68",
   "metadata": {},
   "source": [
    "## Import data"
   ]
  },
  {
   "cell_type": "code",
   "execution_count": 19,
   "id": "325596b1",
   "metadata": {},
   "outputs": [
    {
     "data": {
      "text/html": [
       "<div>\n",
       "<style scoped>\n",
       "    .dataframe tbody tr th:only-of-type {\n",
       "        vertical-align: middle;\n",
       "    }\n",
       "\n",
       "    .dataframe tbody tr th {\n",
       "        vertical-align: top;\n",
       "    }\n",
       "\n",
       "    .dataframe thead th {\n",
       "        text-align: right;\n",
       "    }\n",
       "</style>\n",
       "<table border=\"1\" class=\"dataframe\">\n",
       "  <thead>\n",
       "    <tr style=\"text-align: right;\">\n",
       "      <th></th>\n",
       "      <th>Authors</th>\n",
       "      <th>Author(s) ID</th>\n",
       "      <th>Title</th>\n",
       "      <th>Year</th>\n",
       "      <th>Source title</th>\n",
       "      <th>Volume</th>\n",
       "      <th>Issue</th>\n",
       "      <th>Art. No.</th>\n",
       "      <th>Page start</th>\n",
       "      <th>Page end</th>\n",
       "      <th>...</th>\n",
       "      <th>ISBN</th>\n",
       "      <th>CODEN</th>\n",
       "      <th>PubMed ID</th>\n",
       "      <th>Language of Original Document</th>\n",
       "      <th>Abbreviated Source Title</th>\n",
       "      <th>Document Type</th>\n",
       "      <th>Publication Stage</th>\n",
       "      <th>Open Access</th>\n",
       "      <th>Source</th>\n",
       "      <th>EID</th>\n",
       "    </tr>\n",
       "  </thead>\n",
       "  <tbody>\n",
       "    <tr>\n",
       "      <th>0</th>\n",
       "      <td>Gordon N.K., Gordon R.</td>\n",
       "      <td>57169700700;7402753791;</td>\n",
       "      <td>Embryogenesis explained</td>\n",
       "      <td>2016</td>\n",
       "      <td>Embryogenesis explained</td>\n",
       "      <td>NaN</td>\n",
       "      <td>NaN</td>\n",
       "      <td>NaN</td>\n",
       "      <td>1</td>\n",
       "      <td>759</td>\n",
       "      <td>...</td>\n",
       "      <td>9789814350501; 9789814350488</td>\n",
       "      <td>NaN</td>\n",
       "      <td>NaN</td>\n",
       "      <td>English</td>\n",
       "      <td>Embryog. explain.</td>\n",
       "      <td>Book</td>\n",
       "      <td>Final</td>\n",
       "      <td>NaN</td>\n",
       "      <td>Scopus</td>\n",
       "      <td>2-s2.0-84857183528</td>\n",
       "    </tr>\n",
       "  </tbody>\n",
       "</table>\n",
       "<p>1 rows × 33 columns</p>\n",
       "</div>"
      ],
      "text/plain": [
       "                  Authors             Author(s) ID                    Title  \\\n",
       "0  Gordon N.K., Gordon R.  57169700700;7402753791;  Embryogenesis explained   \n",
       "\n",
       "   Year             Source title Volume Issue Art. No. Page start Page end  \\\n",
       "0  2016  Embryogenesis explained    NaN   NaN      NaN          1      759   \n",
       "\n",
       "   ...                          ISBN  CODEN PubMed ID  \\\n",
       "0  ...  9789814350501; 9789814350488    NaN       NaN   \n",
       "\n",
       "  Language of Original Document Abbreviated Source Title Document Type  \\\n",
       "0                       English        Embryog. explain.          Book   \n",
       "\n",
       "  Publication Stage Open Access  Source                 EID  \n",
       "0             Final         NaN  Scopus  2-s2.0-84857183528  \n",
       "\n",
       "[1 rows x 33 columns]"
      ]
     },
     "execution_count": 19,
     "metadata": {},
     "output_type": "execute_result"
    }
   ],
   "source": [
    "data_scopus = pd.read_csv('./data/scopus/scopus_data.csv', sep=';');\n",
    "data_scopus.head(1)"
   ]
  },
  {
   "cell_type": "code",
   "execution_count": 20,
   "id": "0c414688",
   "metadata": {},
   "outputs": [
    {
     "data": {
      "text/html": [
       "<div>\n",
       "<style scoped>\n",
       "    .dataframe tbody tr th:only-of-type {\n",
       "        vertical-align: middle;\n",
       "    }\n",
       "\n",
       "    .dataframe tbody tr th {\n",
       "        vertical-align: top;\n",
       "    }\n",
       "\n",
       "    .dataframe thead th {\n",
       "        text-align: right;\n",
       "    }\n",
       "</style>\n",
       "<table border=\"1\" class=\"dataframe\">\n",
       "  <thead>\n",
       "    <tr style=\"text-align: right;\">\n",
       "      <th></th>\n",
       "      <th>PMID</th>\n",
       "      <th>Title</th>\n",
       "      <th>Authors</th>\n",
       "      <th>Citation</th>\n",
       "      <th>First Author</th>\n",
       "      <th>Journal/Book</th>\n",
       "      <th>Publication Year</th>\n",
       "      <th>Create Date</th>\n",
       "      <th>PMCID</th>\n",
       "      <th>NIHMS ID</th>\n",
       "      <th>DOI</th>\n",
       "    </tr>\n",
       "  </thead>\n",
       "  <tbody>\n",
       "    <tr>\n",
       "      <th>0</th>\n",
       "      <td>31738442</td>\n",
       "      <td>How to govern the digital transformation of he...</td>\n",
       "      <td>Ricciardi W, Pita Barros P, Bourek A, Brouwer ...</td>\n",
       "      <td>Eur J Public Health. 2019 Oct 1;29(Supplement_...</td>\n",
       "      <td>Ricciardi W</td>\n",
       "      <td>Eur J Public Health</td>\n",
       "      <td>2019</td>\n",
       "      <td>2019/11/19</td>\n",
       "      <td>PMC6859522</td>\n",
       "      <td>NaN</td>\n",
       "      <td>10.1093/eurpub/ckz165</td>\n",
       "    </tr>\n",
       "  </tbody>\n",
       "</table>\n",
       "</div>"
      ],
      "text/plain": [
       "       PMID                                              Title  \\\n",
       "0  31738442  How to govern the digital transformation of he...   \n",
       "\n",
       "                                             Authors  \\\n",
       "0  Ricciardi W, Pita Barros P, Bourek A, Brouwer ...   \n",
       "\n",
       "                                            Citation First Author  \\\n",
       "0  Eur J Public Health. 2019 Oct 1;29(Supplement_...  Ricciardi W   \n",
       "\n",
       "          Journal/Book  Publication Year Create Date       PMCID NIHMS ID  \\\n",
       "0  Eur J Public Health              2019  2019/11/19  PMC6859522      NaN   \n",
       "\n",
       "                     DOI  \n",
       "0  10.1093/eurpub/ckz165  "
      ]
     },
     "execution_count": 20,
     "metadata": {},
     "output_type": "execute_result"
    }
   ],
   "source": [
    "data_pubmed = pd.read_csv('./data/pubmed/set_DT.csv', sep=',');\n",
    "data_pubmed.head(1)"
   ]
  },
  {
   "cell_type": "code",
   "execution_count": null,
   "id": "804124b0",
   "metadata": {},
   "outputs": [],
   "source": []
  },
  {
   "cell_type": "markdown",
   "id": "baaba1fa",
   "metadata": {},
   "source": [
    "## Preparing data for LDA (PubMed + Scopus)"
   ]
  },
  {
   "cell_type": "code",
   "execution_count": 26,
   "id": "1a344f24",
   "metadata": {},
   "outputs": [],
   "source": [
    "content = ''\n",
    "with open('./data/pubmed/set_DT.txt') as f:\n",
    "    for line in f:\n",
    "        content = content + line"
   ]
  },
  {
   "cell_type": "code",
   "execution_count": 27,
   "id": "c36f9314",
   "metadata": {},
   "outputs": [],
   "source": [
    "pubmed_dict = {}\n",
    "PMID = re.findall('\\nPMID-(.*)\\n', content, re.MULTILINE)\n",
    "DP = re.findall('\\nDP  -(.*)\\n', content, re.MULTILINE)\n",
    "AB = re.findall('\\nAB  -(.*)\\n', content, re.MULTILINE)\n",
    "pubmed_dict = {\n",
    "        'pmid':PMID,\n",
    "        'date':DP,\n",
    "        'abstract':AB}\n",
    "for i in range(len(PMID)-len(AB)):\n",
    "    AB.append('nan')"
   ]
  },
  {
   "cell_type": "code",
   "execution_count": 28,
   "id": "ab5fab5e",
   "metadata": {},
   "outputs": [],
   "source": [
    "data_pubmed = pd.DataFrame(pubmed_dict)\n",
    "data_pubmed.head()\n",
    "data_pubmed['pmid']=data_pubmed['pmid'].str.strip()"
   ]
  },
  {
   "cell_type": "code",
   "execution_count": 29,
   "id": "2c3b06a6",
   "metadata": {},
   "outputs": [],
   "source": [
    "data_scopus['pmid'] = data_scopus['EID']\n",
    "data_scopus['abstract'] = data_scopus['Abstract']\n",
    "data_scopus['date']=data_scopus['Year']"
   ]
  },
  {
   "cell_type": "code",
   "execution_count": 59,
   "id": "086438fd",
   "metadata": {},
   "outputs": [],
   "source": [
    "data_scopus.to_csv('./network_data/data_scopus.csv', index=False)"
   ]
  },
  {
   "cell_type": "code",
   "execution_count": 30,
   "id": "4076a3de",
   "metadata": {},
   "outputs": [
    {
     "data": {
      "text/html": [
       "<div>\n",
       "<style scoped>\n",
       "    .dataframe tbody tr th:only-of-type {\n",
       "        vertical-align: middle;\n",
       "    }\n",
       "\n",
       "    .dataframe tbody tr th {\n",
       "        vertical-align: top;\n",
       "    }\n",
       "\n",
       "    .dataframe thead th {\n",
       "        text-align: right;\n",
       "    }\n",
       "</style>\n",
       "<table border=\"1\" class=\"dataframe\">\n",
       "  <thead>\n",
       "    <tr style=\"text-align: right;\">\n",
       "      <th></th>\n",
       "      <th>pmid</th>\n",
       "      <th>date</th>\n",
       "      <th>abstract</th>\n",
       "    </tr>\n",
       "  </thead>\n",
       "  <tbody>\n",
       "    <tr>\n",
       "      <th>14338</th>\n",
       "      <td>2-s2.0-85131519147</td>\n",
       "      <td>2022</td>\n",
       "      <td>Introduction: Remotely delivered pain manageme...</td>\n",
       "    </tr>\n",
       "    <tr>\n",
       "      <th>14339</th>\n",
       "      <td>2-s2.0-85131525515</td>\n",
       "      <td>2022</td>\n",
       "      <td>The pilot survey presented herein explores the...</td>\n",
       "    </tr>\n",
       "    <tr>\n",
       "      <th>14340</th>\n",
       "      <td>2-s2.0-85131545214</td>\n",
       "      <td>2022</td>\n",
       "      <td>[No abstract available]</td>\n",
       "    </tr>\n",
       "    <tr>\n",
       "      <th>14341</th>\n",
       "      <td>2-s2.0-85131563626</td>\n",
       "      <td>2022</td>\n",
       "      <td>The COVID 19 (Coronavirus) pandemic has led to...</td>\n",
       "    </tr>\n",
       "    <tr>\n",
       "      <th>14342</th>\n",
       "      <td>2-s2.0-85131583685</td>\n",
       "      <td>2022</td>\n",
       "      <td>Cancer remains a common health issue having si...</td>\n",
       "    </tr>\n",
       "  </tbody>\n",
       "</table>\n",
       "</div>"
      ],
      "text/plain": [
       "                     pmid  date  \\\n",
       "14338  2-s2.0-85131519147  2022   \n",
       "14339  2-s2.0-85131525515  2022   \n",
       "14340  2-s2.0-85131545214  2022   \n",
       "14341  2-s2.0-85131563626  2022   \n",
       "14342  2-s2.0-85131583685  2022   \n",
       "\n",
       "                                                abstract  \n",
       "14338  Introduction: Remotely delivered pain manageme...  \n",
       "14339  The pilot survey presented herein explores the...  \n",
       "14340                            [No abstract available]  \n",
       "14341  The COVID 19 (Coronavirus) pandemic has led to...  \n",
       "14342  Cancer remains a common health issue having si...  "
      ]
     },
     "execution_count": 30,
     "metadata": {},
     "output_type": "execute_result"
    }
   ],
   "source": [
    "data_pubmed = pd.concat([data_pubmed,data_scopus[['pmid','date','abstract']]])\n",
    "data_pubmed.tail(5)"
   ]
  },
  {
   "cell_type": "code",
   "execution_count": 31,
   "id": "c89a16ff",
   "metadata": {},
   "outputs": [
    {
     "data": {
      "text/plain": [
       "(20892, 3)"
      ]
     },
     "execution_count": 31,
     "metadata": {},
     "output_type": "execute_result"
    }
   ],
   "source": [
    "data_pubmed.shape"
   ]
  },
  {
   "cell_type": "code",
   "execution_count": 32,
   "id": "28e7f820",
   "metadata": {},
   "outputs": [],
   "source": [
    "parser = en_core_sci_lg.load(disable=[\"tagger\", \"ner\"])\n",
    "parser.max_length = 6000000"
   ]
  },
  {
   "cell_type": "code",
   "execution_count": 33,
   "id": "9cdeff19",
   "metadata": {},
   "outputs": [],
   "source": [
    "customize_stop_words = [\n",
    "    'doi', 'preprint', 'copyright', 'peer', 'reviewed', 'org', 'https', 'et', 'al', 'author', 'figure', \n",
    "    'rights', 'reserved', 'permission', 'used', 'using', 'biorxiv', 'medrxiv', 'license', 'fig', 'fig.', 'al.', 'Elsevier', 'PMC', 'CZI',\n",
    "    '-PRON-','nan','hz','new','use','image','images','methods','method','study','studies','area'\n",
    "]\n",
    "for w in customize_stop_words:\n",
    "    parser.vocab[w].is_stop = True"
   ]
  },
  {
   "cell_type": "code",
   "execution_count": 34,
   "id": "2a6c7489",
   "metadata": {},
   "outputs": [],
   "source": [
    "def spacy_tokenizer(sentence):\n",
    "    tokens = parser(sentence)\n",
    "    tokens = [ word.lemma_.lower().strip() for word in tokens if not(word.like_num or word.is_stop or word.is_punct or word.is_space or len(word)==1) ]\n",
    "    tokens = \" \".join([i for i in tokens])\n",
    "    return tokens"
   ]
  },
  {
   "cell_type": "code",
   "execution_count": 35,
   "id": "ac673080",
   "metadata": {},
   "outputs": [
    {
     "name": "stderr",
     "output_type": "stream",
     "text": [
      "  0%|                                                 | 0/20892 [00:00<?, ?it/s]/Library/Frameworks/Python.framework/Versions/3.8/lib/python3.8/site-packages/spacy/pipeline/lemmatizer.py:211: UserWarning: [W108] The rule-based lemmatizer did not find POS annotation for one or more tokens. Check that your pipeline includes components that assign token.pos, typically 'tagger'+'attribute_ruler' or 'morphologizer'.\n",
      "  warnings.warn(Warnings.W108)\n",
      "100%|█████████████████████████████████████| 20892/20892 [09:56<00:00, 35.00it/s]\n"
     ]
    }
   ],
   "source": [
    "tqdm.pandas()\n",
    "data_pubmed[\"processed_abstract\"] = data_pubmed['abstract'].progress_apply(spacy_tokenizer)"
   ]
  },
  {
   "cell_type": "code",
   "execution_count": null,
   "id": "674cfadc",
   "metadata": {},
   "outputs": [],
   "source": [
    "docs_clean = []\n",
    "for i in list(data_pubmed.processed_abstract):\n",
    "    docs_clean.append(i.split())\n",
    "id2word = corpora.Dictionary(docs_clean)"
   ]
  },
  {
   "cell_type": "code",
   "execution_count": 36,
   "id": "277e23f4",
   "metadata": {},
   "outputs": [
    {
     "name": "stderr",
     "output_type": "stream",
     "text": [
      "<>:1: DeprecationWarning: invalid escape sequence \\-\n",
      "<>:1: DeprecationWarning: invalid escape sequence \\-\n",
      "/var/folders/0d/7rwsnbd936d6v32kctnxnw4w0000gn/T/ipykernel_25968/2908419801.py:1: DeprecationWarning: invalid escape sequence \\-\n",
      "  cvec = CountVectorizer(min_df=5, max_df=0.9, stop_words='english', lowercase=True, token_pattern='[a-zA-Z\\-][a-zA-Z\\-]{2,}')\n",
      "100%|██████████████████████████████████| 20892/20892 [00:01<00:00, 15233.83it/s]\n"
     ]
    }
   ],
   "source": [
    "cvec = CountVectorizer(min_df=5, max_df=0.9, stop_words='english', lowercase=True, token_pattern='[a-zA-Z\\-][a-zA-Z\\-]{2,}')\n",
    "vectorized_data = cvec.fit_transform(tqdm(data_pubmed['processed_abstract']))"
   ]
  },
  {
   "cell_type": "code",
   "execution_count": 37,
   "id": "6bc51f97",
   "metadata": {},
   "outputs": [
    {
     "data": {
      "text/plain": [
       "(20892, 20393)"
      ]
     },
     "execution_count": 37,
     "metadata": {},
     "output_type": "execute_result"
    }
   ],
   "source": [
    "vectorized_data.shape"
   ]
  },
  {
   "cell_type": "code",
   "execution_count": null,
   "id": "834fe2fd",
   "metadata": {},
   "outputs": [],
   "source": []
  },
  {
   "cell_type": "markdown",
   "id": "e3ddbb1a",
   "metadata": {},
   "source": [
    "# LDA modeling"
   ]
  },
  {
   "cell_type": "code",
   "execution_count": 54,
   "id": "eab75764",
   "metadata": {},
   "outputs": [
    {
     "data": {
      "text/html": [
       "<style>#sk-container-id-5 {color: black;background-color: white;}#sk-container-id-5 pre{padding: 0;}#sk-container-id-5 div.sk-toggleable {background-color: white;}#sk-container-id-5 label.sk-toggleable__label {cursor: pointer;display: block;width: 100%;margin-bottom: 0;padding: 0.3em;box-sizing: border-box;text-align: center;}#sk-container-id-5 label.sk-toggleable__label-arrow:before {content: \"▸\";float: left;margin-right: 0.25em;color: #696969;}#sk-container-id-5 label.sk-toggleable__label-arrow:hover:before {color: black;}#sk-container-id-5 div.sk-estimator:hover label.sk-toggleable__label-arrow:before {color: black;}#sk-container-id-5 div.sk-toggleable__content {max-height: 0;max-width: 0;overflow: hidden;text-align: left;background-color: #f0f8ff;}#sk-container-id-5 div.sk-toggleable__content pre {margin: 0.2em;color: black;border-radius: 0.25em;background-color: #f0f8ff;}#sk-container-id-5 input.sk-toggleable__control:checked~div.sk-toggleable__content {max-height: 200px;max-width: 100%;overflow: auto;}#sk-container-id-5 input.sk-toggleable__control:checked~label.sk-toggleable__label-arrow:before {content: \"▾\";}#sk-container-id-5 div.sk-estimator input.sk-toggleable__control:checked~label.sk-toggleable__label {background-color: #d4ebff;}#sk-container-id-5 div.sk-label input.sk-toggleable__control:checked~label.sk-toggleable__label {background-color: #d4ebff;}#sk-container-id-5 input.sk-hidden--visually {border: 0;clip: rect(1px 1px 1px 1px);clip: rect(1px, 1px, 1px, 1px);height: 1px;margin: -1px;overflow: hidden;padding: 0;position: absolute;width: 1px;}#sk-container-id-5 div.sk-estimator {font-family: monospace;background-color: #f0f8ff;border: 1px dotted black;border-radius: 0.25em;box-sizing: border-box;margin-bottom: 0.5em;}#sk-container-id-5 div.sk-estimator:hover {background-color: #d4ebff;}#sk-container-id-5 div.sk-parallel-item::after {content: \"\";width: 100%;border-bottom: 1px solid gray;flex-grow: 1;}#sk-container-id-5 div.sk-label:hover label.sk-toggleable__label {background-color: #d4ebff;}#sk-container-id-5 div.sk-serial::before {content: \"\";position: absolute;border-left: 1px solid gray;box-sizing: border-box;top: 0;bottom: 0;left: 50%;z-index: 0;}#sk-container-id-5 div.sk-serial {display: flex;flex-direction: column;align-items: center;background-color: white;padding-right: 0.2em;padding-left: 0.2em;position: relative;}#sk-container-id-5 div.sk-item {position: relative;z-index: 1;}#sk-container-id-5 div.sk-parallel {display: flex;align-items: stretch;justify-content: center;background-color: white;position: relative;}#sk-container-id-5 div.sk-item::before, #sk-container-id-5 div.sk-parallel-item::before {content: \"\";position: absolute;border-left: 1px solid gray;box-sizing: border-box;top: 0;bottom: 0;left: 50%;z-index: -1;}#sk-container-id-5 div.sk-parallel-item {display: flex;flex-direction: column;z-index: 1;position: relative;background-color: white;}#sk-container-id-5 div.sk-parallel-item:first-child::after {align-self: flex-end;width: 50%;}#sk-container-id-5 div.sk-parallel-item:last-child::after {align-self: flex-start;width: 50%;}#sk-container-id-5 div.sk-parallel-item:only-child::after {width: 0;}#sk-container-id-5 div.sk-dashed-wrapped {border: 1px dashed gray;margin: 0 0.4em 0.5em 0.4em;box-sizing: border-box;padding-bottom: 0.4em;background-color: white;}#sk-container-id-5 div.sk-label label {font-family: monospace;font-weight: bold;display: inline-block;line-height: 1.2em;}#sk-container-id-5 div.sk-label-container {text-align: center;}#sk-container-id-5 div.sk-container {/* jupyter's `normalize.less` sets `[hidden] { display: none; }` but bootstrap.min.css set `[hidden] { display: none !important; }` so we also need the `!important` here to be able to override the default hidden behavior on the sphinx rendered scikit-learn.org. See: https://github.com/scikit-learn/scikit-learn/issues/21755 */display: inline-block !important;position: relative;}#sk-container-id-5 div.sk-text-repr-fallback {display: none;}</style><div id=\"sk-container-id-5\" class=\"sk-top-container\"><div class=\"sk-text-repr-fallback\"><pre>LatentDirichletAllocation(n_components=20, random_state=0)</pre><b>In a Jupyter environment, please rerun this cell to show the HTML representation or trust the notebook. <br />On GitHub, the HTML representation is unable to render, please try loading this page with nbviewer.org.</b></div><div class=\"sk-container\" hidden><div class=\"sk-item\"><div class=\"sk-estimator sk-toggleable\"><input class=\"sk-toggleable__control sk-hidden--visually\" id=\"sk-estimator-id-5\" type=\"checkbox\" checked><label for=\"sk-estimator-id-5\" class=\"sk-toggleable__label sk-toggleable__label-arrow\">LatentDirichletAllocation</label><div class=\"sk-toggleable__content\"><pre>LatentDirichletAllocation(n_components=20, random_state=0)</pre></div></div></div></div></div>"
      ],
      "text/plain": [
       "LatentDirichletAllocation(n_components=20, random_state=0)"
      ]
     },
     "execution_count": 54,
     "metadata": {},
     "output_type": "execute_result"
    }
   ],
   "source": [
    "lda = LatentDirichletAllocation(n_components=20, random_state=0)\n",
    "lda.fit(vectorized_data)"
   ]
  },
  {
   "cell_type": "code",
   "execution_count": 55,
   "id": "2bed6bb7",
   "metadata": {},
   "outputs": [],
   "source": [
    "def print_top_words(model, vectorizer, n_top_words):\n",
    "    feature_names = vectorizer.get_feature_names()\n",
    "    for topic_idx, topic in enumerate(model.components_):\n",
    "        message = \"\\nTopic #%d: \" % topic_idx\n",
    "        message += \" \".join([feature_names[i]\n",
    "                             for i in topic.argsort()[:-n_top_words - 1:-1]])\n",
    "        print(message)\n",
    "    print()"
   ]
  },
  {
   "cell_type": "code",
   "execution_count": 56,
   "id": "2c10fd1a",
   "metadata": {},
   "outputs": [
    {
     "name": "stdout",
     "output_type": "stream",
     "text": [
      "\n",
      "Topic #0: proposed algorithm detection based results paper transform features color wavelet performance classification digital compression feature different technique accuracy retinal information analysis breast approach scheme diagnosis techniques segmentation medical quality compared data database noise obtained algorithms fundus region extracted applied regions\n",
      "\n",
      "Topic #1: signal frequency signals analysis data transform digital eeg fourier time ecg power spectral processing results based filter fast noise flow control detection obtained heart rate recorded paper spectrum information parameters proposed different wavelet frequencies algorithm spectra high function monitoring domain\n",
      "\n",
      "Topic #2: model data learning segmentation models features network proposed based classification results deep performance accuracy machine approach neural analysis training different dataset datasets feature techniques information algorithms set medical networks prediction paper detection approaches automated framework processing propose developed accurate convolutional\n",
      "\n",
      "Topic #3: digital imaging data results reconstruction algorithm based proposed transform error accuracy motion noise registration transformation obtained technique resolution different model compared spatial object phase measurement phantom reconstructed quality parameters fourier information function points dose x-ray approach reference pet correction point\n",
      "\n",
      "Topic #4: students learning education digital nursing teaching online knowledge training medical research educational development skills virtual professional university practice technology teachers student experience results course authors school process academic work design model traditional article program activities environment content curriculum approach analysis\n",
      "\n",
      "Topic #5: health care mental patients digital results information support people work services social public methods research interviews service data analysis diabetes outcomes background participants access patient primary conclusions identified implementation qualitative community professionals objective engagement online conducted factors intervention needs findings\n",
      "\n",
      "Topic #6: digital health care covid- healthcare technology pandemic transformation services technologies patients medical industry systems challenges development innovation telehealth telemedicine public management future paper patient global smart delivery business countries virtual adoption need service internet world solutions access impact sector current\n",
      "\n",
      "Topic #7: bone properties surface materials temperature mechanical different microscopy results material structure water chemical analysis strain electron tissue samples spectroscopy thermal digital trabecular showed strength infrared high density effect fracture scanning values changes concentration process phase printing formation observed parameters x-ray\n",
      "\n",
      "Topic #8: patients results mean food video methods time heart compared significant sleep patient conclusions scores total analysis hospital cardiac background rate visits test clinical objective significantly showed variables measures score model high scale data respiratory differences respectively higher groups satisfaction increased\n",
      "\n",
      "Topic #9: patients imaging lesions diagnosis clinical results diagnostic analysis cases mri skin methods breast lesion malignant sensitivity digital prostate cancer accuracy disease mean biopsy years performed age significant assessment specificity conclusion features examination oral test detection transformation showed respectively benign conclusions\n",
      "\n",
      "Topic #10: genes open medium article commons creative gene distributed terms distribution attribution source reproduction access provided license permits analysis original unrestricted credited growth species expression data plant results development different conditions important stress identified plants metabolism production involved associated acid process\n",
      "\n",
      "Topic #11: cells cell expression cancer tumor protein gene genes analysis results tissue human signaling levels mir- associated growth role increased proliferation breast tissues significantly mice normal proteins activity crc tumors epithelial factor cellular pathway potential showed lines expressed vitro mirnas identified\n",
      "\n",
      "Topic #12: brain registration shape changes different human movement anatomical data patterns body spatial transformation results functional differences surface muscle analysis species atlas hand movements regions model space temporal individual morphology variation head structures motion visual anatomy cortical motor cortex areas distance\n",
      "\n",
      "Topic #13: cancer patients disease treatment molecular tumor clinical mutations dna cell liver genetic review cells resistance development gene therapeutic immune mutation therapy mechanisms human response including sequencing hcc genes infection tumors progression associated potential diagnosis diseases role risk recent biomarkers common\n",
      "\n",
      "Topic #14: brain control mice showed pdac levels mouse rats pancreatic glucose finger group pcr transgenic results duct developed digital jaw ear road il- significantly protein effects escc smoking mammalian line ipmn protocol lane esophageal pad car acid ductal animals function exposure\n",
      "\n",
      "Topic #15: optical digital applications design imaging time transform high devices processing proposed phase based fourier systems power memory signal performance data light computing demonstrate device paper architecture technique hardware speed implementation energy transmission approach field resolution fast real-time mode single range\n",
      "\n",
      "Topic #16: data research clinical digital health review information systems technology technologies medical patient care development literature healthcare implementation challenges management process practice quality potential science future medicine applications framework paper tools electronic provide current analysis approach field support transformation design results\n",
      "\n",
      "Topic #17: patients treatment group stroke clinical results available blood abstract methods dental acute therapy significantly vascular artery risk associated patient groups surgery months performed significant conclusions years cerebral higher outcome rate ischemic time compared analysis pressure imaging mean conclusion angiography treated\n",
      "\n",
      "Topic #18: social media land soil change research information environmental food results analysis published org urban article content marketing areas authors public climate communities distribution community terms impact forest original apps journal science jmir china different global platforms users agricultural water potential\n",
      "\n",
      "Topic #19: participants women risk results age cancer intervention included years children associated interventions adults factors outcomes older evidence reported methods health young data people men review findings background physical online conclusions prevalence prevention alcohol conducted adolescents screening trial effects group compared\n",
      "\n"
     ]
    }
   ],
   "source": [
    "print_top_words(lda, cvec, n_top_words=40)"
   ]
  },
  {
   "cell_type": "code",
   "execution_count": 57,
   "id": "fedc0e2b",
   "metadata": {},
   "outputs": [],
   "source": [
    "doc_topic_dist = pd.DataFrame(lda.transform(vectorized_data))\n",
    "doc_topic_dist.columns = [\"topic_\"+str(column) for column in doc_topic_dist.columns.values]\n",
    "df = data_pubmed.join(doc_topic_dist)"
   ]
  },
  {
   "cell_type": "code",
   "execution_count": 58,
   "id": "c456d9a7",
   "metadata": {},
   "outputs": [],
   "source": [
    "df.to_csv('./network_data/df.csv', index=False)"
   ]
  },
  {
   "cell_type": "code",
   "execution_count": null,
   "id": "81bdb2ab",
   "metadata": {},
   "outputs": [],
   "source": []
  }
 ],
 "metadata": {
  "kernelspec": {
   "display_name": "Python 3 (ipykernel)",
   "language": "python",
   "name": "python3"
  },
  "language_info": {
   "codemirror_mode": {
    "name": "ipython",
    "version": 3
   },
   "file_extension": ".py",
   "mimetype": "text/x-python",
   "name": "python",
   "nbconvert_exporter": "python",
   "pygments_lexer": "ipython3",
   "version": "3.8.3"
  }
 },
 "nbformat": 4,
 "nbformat_minor": 5
}
